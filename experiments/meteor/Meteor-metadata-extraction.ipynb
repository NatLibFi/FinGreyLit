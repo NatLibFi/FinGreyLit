{
 "cells": [
  {
   "cell_type": "markdown",
   "id": "a7f02b8f-e591-495f-b5fd-e248e089c866",
   "metadata": {},
   "source": [
    "# Metadata extraction using Meteor\n",
    "\n",
    "This notebook attempts to extract metadata from the FinGreyLit test set documents using [Meteor](https://github.com/NationalLibraryOfNorway/meteor), an open source metadata extraction tool developed by the National Library of Norway.\n",
    "\n",
    "It assumes that Meteor is installed and running locally on http://127.0.0.1:5000/ (the default)."
   ]
  },
  {
   "cell_type": "code",
   "execution_count": 1,
   "id": "451f94cd-081c-4677-966a-1bdd2a8a83f3",
   "metadata": {},
   "outputs": [
    {
     "name": "stdout",
     "output_type": "stream",
     "text": [
      "167\n"
     ]
    }
   ],
   "source": [
    "import glob\n",
    "import json\n",
    "\n",
    "# metadata_files = glob.glob(\"../../metadata/*.jsonl\")  # train + test (used for refining code & fixing dataset)\n",
    "metadata_files = glob.glob(\"../../metadata/*-test.jsonl\")  # test set only (used for final evaluation)\n",
    "records = []\n",
    "\n",
    "for mdfile in metadata_files:\n",
    "    with open(mdfile) as inf:\n",
    "        for line in inf:\n",
    "            rec = json.loads(line)\n",
    "            records.append(rec)\n",
    "\n",
    "print(len(records))"
   ]
  },
  {
   "cell_type": "code",
   "execution_count": 2,
   "id": "2c4bad0a-1bb1-4d6f-84ae-b08e369365ba",
   "metadata": {},
   "outputs": [
    {
     "name": "stdout",
     "output_type": "stream",
     "text": [
      "CPU times: user 624 ms, sys: 900 ms, total: 1.52 s\n",
      "Wall time: 54.7 s\n"
     ]
    }
   ],
   "source": [
    "%%time\n",
    "\n",
    "import os\n",
    "import requests\n",
    "\n",
    "METEOR_API_URL = 'http://127.0.0.1:5000/json'\n",
    "\n",
    "LANG_MAP = {\"fi\": \"fin\", \"sv\": \"swe\", \"en\": \"eng\"}\n",
    "FIELDS_MAP = {\n",
    "    \"year\": \"dc.date.issued\",\n",
    "    \"language\": \"dc.language.iso\",\n",
    "    \"title\": \"dc.title\",\n",
    "    \"publisher\": \"dc.publisher\",\n",
    "    \"authors\": \"dc.contributor.author\",\n",
    "    \"isbn\": \"dc.identifier.isbn\",\n",
    "    \"issn\": \"dc.relation.eissn\",\n",
    "}\n",
    "\n",
    "\n",
    "def id_to_fn(identifier):\n",
    "    \"\"\"convert a URI identifier to a simpler string we can use as a filename for the PDF\"\"\"\n",
    "    return '../../pdfs/' + identifier.replace('https://', '').replace('/','_') + \".pdf\"\n",
    "\n",
    "def download(file_url, identifier):\n",
    "    \"\"\"download a PDF file, with the given identifier, from the given URL (unless this was done already)\n",
    "    and return a path to the PDF file\"\"\"\n",
    "    path = id_to_fn(identifier)\n",
    "    if os.path.exists(path) and os.path.getsize(path) > 0:\n",
    "        return path\n",
    "\n",
    "    response = requests.get(file_url)\n",
    "    with open(path, \"wb\") as f:\n",
    "        f.write(response.content)\n",
    "        print(f\"wrote {file_url} as {path}\")\n",
    "    return path\n",
    "\n",
    "def map_record(rec):\n",
    "    \"\"\"Organize record, placing keys starting with 'dc.' under 'prediction'.\"\"\"\n",
    "    out = {\n",
    "        key: value for key, value in rec.items()\n",
    "        if not key.startswith(\"dc.\")\n",
    "    }\n",
    "    out[\"ground_truth\"] = {\n",
    "        key: value for key, value in sorted(rec.items())\n",
    "        if key.startswith(\"dc.\")\n",
    "    }\n",
    "    return out\n",
    "\n",
    "def map_prediction(key, value):\n",
    "    \"\"\"\"Convert data from Meteor schema to FinGreyLit schema\"\"\"\n",
    "    if key == \"authors\":\n",
    "        authors = [\n",
    "                    f\"{author['lastname']}, {author['firstname']}\"\n",
    "                    for author in value\n",
    "                ]\n",
    "        return authors  # dc.contributor.author is a list\n",
    "    elif key == \"isbn\" and value:\n",
    "        return [value[\"value\"]]  # dc.contributor.isbn is a list\n",
    "    elif key == \"publisher\" and value:\n",
    "        return [(value[\"value\"])]  # dc.publisher is a list\n",
    "    elif key == \"language\":  # convert to ISO 639-3 3-letter language code\n",
    "        value[\"value\"] = LANG_MAP.get(value[\"value\"])\n",
    "    try:\n",
    "        return str(value[\"value\"])\n",
    "    except (KeyError, TypeError):\n",
    "        return None\n",
    "\n",
    "\n",
    "out_records = []\n",
    "\n",
    "for rec in records:\n",
    "    path = download(rec['url'], rec['id'])\n",
    "    out_rec = map_record(rec)\n",
    "\n",
    "    # Create a dictionary containing the file to be sent\n",
    "    filedata = {'fileInput': (path, open(path, 'rb'), 'application/pdf')}\n",
    "\n",
    "    # Send the POST request with the file\n",
    "    response = requests.post(METEOR_API_URL, files=filedata)\n",
    "    try:\n",
    "        meteor_output = response.json()\n",
    "    except requests.JSONDecodeError:\n",
    "        print(f\"JSON decode error for {rec['id']} / {rec['url']}\")\n",
    "        out_rec['prediction'] = {}\n",
    "    else:\n",
    "        mapped_prediction = {\n",
    "            FIELDS_MAP[key]: map_prediction(key, value)\n",
    "            for key, value in sorted(meteor_output.items())\n",
    "            if key in FIELDS_MAP\n",
    "            }\n",
    "        out_rec['prediction'] = mapped_prediction\n",
    "    out_records.append(out_rec)\n",
    "\n",
    "# write output to JSONL file\n",
    "with open('test-records.jsonl', 'w') as outfile:\n",
    "    for rec in out_records:\n",
    "        json.dump(rec, outfile)\n",
    "        outfile.write(\"\\n\")"
   ]
  }
 ],
 "metadata": {
  "kernelspec": {
   "display_name": "Python 3 (ipykernel)",
   "language": "python",
   "name": "python3"
  },
  "language_info": {
   "codemirror_mode": {
    "name": "ipython",
    "version": 3
   },
   "file_extension": ".py",
   "mimetype": "text/x-python",
   "name": "python",
   "nbconvert_exporter": "python",
   "pygments_lexer": "ipython3",
   "version": "3.11.7"
  }
 },
 "nbformat": 4,
 "nbformat_minor": 5
}
