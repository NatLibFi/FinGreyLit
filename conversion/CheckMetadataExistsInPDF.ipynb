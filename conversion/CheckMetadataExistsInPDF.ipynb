{
 "cells": [
  {
   "cell_type": "markdown",
   "id": "5251e269-80cc-4be9-a7e7-af8d3bfa9a08",
   "metadata": {},
   "source": [
    "Check that specific metadata values are actually represented in publication PDF\n"
   ]
  },
  {
   "cell_type": "code",
   "execution_count": 1,
   "id": "e70bb689-38f6-4248-a5bb-0a4a826ad3fd",
   "metadata": {},
   "outputs": [
    {
     "name": "stdout",
     "output_type": "stream",
     "text": [
      "800\n"
     ]
    }
   ],
   "source": [
    "import glob\n",
    "import json\n",
    "import re\n",
    "\n",
    "metadata_files = sorted(glob.glob(\"../metadata/*.jsonl\"))\n",
    "records = []\n",
    "\n",
    "for mdfile in metadata_files:\n",
    "    with open(mdfile) as inf:\n",
    "        for line in inf:\n",
    "            rec = json.loads(line)\n",
    "            records.append(rec)\n",
    "\n",
    "def extract_number(s):\n",
    "    matches = re.findall(r'\\d+', s)\n",
    "    return int(matches[0])\n",
    "\n",
    "# sort by doctype and numeric part of rowid\n",
    "records.sort(key=lambda rec: (rec['doctype'], extract_number(rec['rowid'])))\n",
    "\n",
    "print(len(records))"
   ]
  },
  {
   "cell_type": "code",
   "execution_count": 2,
   "id": "85187221-5a12-46ca-9555-cc892469517b",
   "metadata": {},
   "outputs": [],
   "source": [
    "# convert already downloaded PDFs to text\n",
    "#!for pdf in ../pdfs/*.pdf; do pdftotext $pdf; done\n",
    "\n",
    "def id_to_txtfn(identifier):\n",
    "    \"\"\"convert a URI identifier to a simpler string we can use as a filename for the text file\"\"\"\n",
    "    return '../pdfs/' + identifier.replace('https://', '').replace('/','_') + \".txt\""
   ]
  },
  {
   "cell_type": "code",
   "execution_count": 3,
   "id": "c222c138-97b7-4b4b-b599-6cc84f3f9ad0",
   "metadata": {},
   "outputs": [
    {
     "name": "stdout",
     "output_type": "stream",
     "text": [
      "0 records with ISSN mismatches\n"
     ]
    }
   ],
   "source": [
    "# Check for ISSNs in metadata that are not given in the PDF document text\n",
    "\n",
    "def find_issn_in_text(issn, text):\n",
    "    pattern = f\"{issn[:4]}[ -‐‑—‒–−]?{issn[5:]}\"\n",
    "    return re.search(pattern, text)\n",
    "\n",
    "nrec = 0\n",
    "for rec in records:\n",
    "    record_ok = True\n",
    "\n",
    "    fn = id_to_txtfn(rec['id'])\n",
    "    with open(fn) as infile:\n",
    "        text = infile.read()\n",
    "\n",
    "    pissn = rec.get('dc.relation.pissn')\n",
    "    if pissn:\n",
    "        if not find_issn_in_text(pissn, text):\n",
    "            print(f\"{rec['rowid']}: pissn {pissn} not found in text {rec['url']}\")\n",
    "            for match in re.findall(r\"ISSN\", text, re.I):\n",
    "                print(match)\n",
    "            record_ok = False\n",
    "\n",
    "    eissn = rec.get('dc.relation.eissn')\n",
    "    if eissn:\n",
    "        if not find_issn_in_text(eissn, text):\n",
    "            print(f\"{rec['rowid']}: eissn {eissn} not found in text {rec['url']}\")\n",
    "            for match in re.findall(r\"ISSN\", text, re.I):\n",
    "                print(match)\n",
    "            record_ok = False\n",
    "    if not record_ok:\n",
    "        nrec += 1\n",
    "\n",
    "print(f\"{nrec} records with ISSN mismatches\")"
   ]
  },
  {
   "cell_type": "code",
   "execution_count": 4,
   "id": "5667b9cb-14c1-4570-89ca-1b031b049f3c",
   "metadata": {},
   "outputs": [
    {
     "name": "stdout",
     "output_type": "stream",
     "text": [
      "article16: publisher 'Suomen Pankki' NOT found in text https://publications.bof.fi/bitstream/handle/10024/43381/30012015Valimaki.pdf\n",
      "article38: inferred publisher [The Donner Institute] WAS found in text https://www.doria.fi/bitstream/handle/10024/184051/114539-Article Text-224982-1-10-20220228 (1) editorial.pdf\n",
      "article39: inferred publisher [The Donner Institute] WAS found in text https://www.doria.fi/bitstream/handle/10024/180209/editorial.pdf\n",
      "article40: inferred publisher [The Donner Institute] WAS found in text https://www.doria.fi/bitstream/handle/10024/185537/117088-Article Text-240731-1-10-20220626 (1) editorial.pdf\n",
      "article42: inferred publisher [Tutkijaliitto] WAS found in text https://taju.uniarts.fi/bitstream/handle/10024/6009/AA-ME-rinnakkaistallennettavaksi.pdf\n",
      "article125: inferred publisher [Kansanvalistusseura] WAS found in text https://taju.uniarts.fi/bitstream/handle/10024/5998/Laes_Rautiainen_Osallistuminentaiteeseenjakulttuuriin.pdf\n",
      "article126: inferred publisher [Tutkijaliitto] WAS found in text https://taju.uniarts.fi/bitstream/handle/10024/6015/Närhinen_T&E_4-2017_post-print.pdf\n",
      "article128: inferred publisher [TOTAL ART] WAS found in text https://taju.uniarts.fi/bitstream/handle/10024/5985/Performing_Landscape_Live_and_Alive.pdf\n",
      "article174: publisher 'Finanssivalvonta' NOT found in text https://publications.bof.fi/bitstream/handle/10024/46291/Fiva_blogi_Vaalitulos-ja-ilmastonmuutos.pdf\n",
      "report42: publisher 'Kansanterveyden neuvottelukunta' NOT found in text https://www.julkari.fi/bitstream/handle/10024/141035/KTNK Hyvinvoinnin terveyden ja turvallisuuden edistäminen infograafit.pdf\n",
      "report89: publisher 'Terveyden ja hyvinvoinnin laitos' NOT found in text https://www.julkari.fi/bitstream/handle/10024/140770/TEAviisari2020_Etelä-Savon-maakunta.pdf\n",
      "report90: publisher 'Terveyden ja hyvinvoinnin laitos' NOT found in text https://www.julkari.fi/bitstream/handle/10024/140775/TEAviisari2020_Kymenlaakso.pdf\n",
      "report91: publisher 'Terveyden ja hyvinvoinnin laitos' NOT found in text https://www.julkari.fi/bitstream/handle/10024/140779/TEAviisari2020_Pohjois-Karjala.pdf\n",
      "report97: publisher 'Työeläkevakuuttajat TELA ry' NOT found in text https://www.julkari.fi/bitstream/handle/10024/142661/Tyoelakelaitosten-tilinpaatostiedot-2020.pdf\n",
      "report100: publisher 'Finansinspektionen' NOT found in text https://publications.bof.fi/bitstream/handle/10024/46495/174100.pdf\n",
      "report112: publisher 'Finanssialan Keskusliitto' NOT found in text https://publications.bof.fi/bitstream/handle/10024/44616/172857.pdf\n",
      "thes10: publisher 'Yrkeshögskolan Novia' NOT found in text https://www.theseus.fi/bitstream/handle/10024/494691/A Creative Leader’s Impact on The Working Environment - Kim Forsander.pdf\n",
      "thes16: publisher 'Yrkeshögskolan Arcada' NOT found in text https://www.theseus.fi/bitstream/handle/10024/354923/An analysis of Facebook posts.pdf\n",
      "thes24: publisher 'Yrkeshögskolan Arcada' NOT found in text https://www.theseus.fi/bitstream/handle/10024/494334/Barnmorskors uppfattning om en normal förlossning. En scoping review.pdf\n",
      "thes42: publisher 'Taideyliopiston Sibelius-Akatemia' NOT found in text https://taju.uniarts.fi/bitstream/handle/10024/7347/Kirjallinen työ_Norjanen.pdf\n",
      "thes61: publisher 'Novia University of Applied Sciences' NOT found in text https://www.theseus.fi/bitstream/handle/10024/347596/High Fashion the High Street way - Examensarbete - Julia Andersson.pdf\n",
      "thes86: publisher 'Yrkeshögskolan Novia' NOT found in text https://www.theseus.fi/bitstream/handle/10024/271532/Etzell_Emilia.pdf\n",
      "thes97: publisher 'Yrkeshögskolan Arcada' NOT found in text https://www.theseus.fi/bitstream/handle/10024/344991/Pham Trang_Liquid Absorption_ver3.pdf\n",
      "thes111: publisher 'Taideyliopiston Sibelius-Akatemia' NOT found in text https://taju.uniarts.fi/bitstream/handle/10024/6489/syrjalamusiikinluovatekeminen.pdf\n",
      "thes115: publisher 'Sibelius-Akademin, Konstuniversitetet' NOT found in text https://taju.uniarts.fi/bitstream/handle/10024/6498/henriksson__musik_och_rorelse_som_plattform_for_kreativitet.pdf\n",
      "thes136: publisher 'Sibelius Academy, University of the Arts Helsinki' NOT found in text https://taju.uniarts.fi/bitstream/handle/10024/6548/nbnfife2017111450687.pdf\n",
      "thes137: publisher 'Yrkeshögskolan Arcada' NOT found in text https://www.theseus.fi/bitstream/handle/10024/499187/Pre & Post-Operative Care in Bariatric Surgery.pdf\n",
      "thes139: publisher 'Yrkeshögskolan Novia' NOT found in text https://www.theseus.fi/bitstream/handle/10024/336844/IdaTallgren.pdf\n",
      "thes148: publisher 'Yrkeshögskolan Novia' NOT found in text https://www.theseus.fi/bitstream/handle/10024/339776/Ganner_Alina,Fredriksson_Dan.pdf\n",
      "thes149: publisher 'Theatre Academy, University of the Arts Helsinki' NOT found in text https://taju.uniarts.fi/bitstream/handle/10024/7552/Oliva_Maya_2022.pdf\n",
      "thes153: publisher 'Yrkeshögskolan Arcada' NOT found in text https://www.theseus.fi/bitstream/handle/10024/339197/Mohammed Ali Mohammed Ali Thesis Final Version final.pdf\n",
      "thes161: publisher 'Taideyliopiston Sibelius-Akatemia' NOT found in text https://taju.uniarts.fi/bitstream/handle/10024/7402/Thesis Nahkuri_final_310321 (1).pdf\n",
      "thes170: publisher 'Yrkeshögskolan Novia' NOT found in text https://www.theseus.fi/bitstream/handle/10024/501977/Bachelor Thesis Simon Hund .pdf\n",
      "thes172: publisher 'Yrkeshögskolan Arcada' NOT found in text https://www.theseus.fi/bitstream/handle/10024/354664/Myrberg_Kristoffer_ExArb_Arcada.pdf\n",
      "thes188: publisher 'Yrkeshögskolan Arcada' NOT found in text https://www.theseus.fi/bitstream/handle/10024/498683/VIET NAM PLASTICS STRATEGY final fix(Autosaved) 2-compressed.pdf\n",
      "thes193: publisher 'Yrkeshögskolan Arcada' NOT found in text https://www.theseus.fi/bitstream/handle/10024/499141/Kajoskoski_Kiira.pdf\n",
      "36 records with publisher mismatches\n"
     ]
    }
   ],
   "source": [
    "# Check for publishers in metadata that are not mentioned in the PDF document text\n",
    "\n",
    "import regex\n",
    "\n",
    "def normalize_hyphens(text):\n",
    "    # Use the \\p{Pd} Unicode property escape to match punctuation dashes\n",
    "    normalized_text = regex.sub(r'\\p{Pd}', '-', text)\n",
    "    return normalized_text\n",
    "\n",
    "def find_publisher_in_text(publisher, text):\n",
    "    all_found = True\n",
    "    text = normalize_hyphens(text)\n",
    "    text = text.lower()\n",
    "\n",
    "    text = \" \".join(text.split())  # normalize whitespace to spaces only\n",
    "    for part in publisher.lower().split(','):\n",
    "        if part.strip() not in text:\n",
    "            all_found = False\n",
    "    return all_found\n",
    "\n",
    "def is_inferred_value(val):\n",
    "    return val.startswith('[') and val.endswith(']')\n",
    "\n",
    "nrec = 0\n",
    "for rec in records:\n",
    "    record_ok = True\n",
    "\n",
    "    fn = id_to_txtfn(rec['id'])\n",
    "    with open(fn) as infile:\n",
    "        text = infile.read()\n",
    "\n",
    "    publishers = rec.get('dc.publisher')\n",
    "    for publisher in publishers:\n",
    "        if is_inferred_value(publisher):\n",
    "            if find_publisher_in_text(publisher[1:-1], text):\n",
    "                print(f\"{rec['rowid']}: inferred publisher {publisher} WAS found in text {rec['url']}\")\n",
    "                record_ok = False            \n",
    "        else:\n",
    "            if not find_publisher_in_text(publisher, text):\n",
    "                print(f\"{rec['rowid']}: publisher '{publisher}' NOT found in text {rec['url']}\")\n",
    "                record_ok = False\n",
    "\n",
    "    if not record_ok:\n",
    "        nrec += 1\n",
    "\n",
    "print(f\"{nrec} records with publisher mismatches\")"
   ]
  },
  {
   "cell_type": "code",
   "execution_count": null,
   "id": "532418d1-dd8b-428a-ba25-2b0b687cef4c",
   "metadata": {},
   "outputs": [],
   "source": []
  }
 ],
 "metadata": {
  "kernelspec": {
   "display_name": "Python 3 (ipykernel)",
   "language": "python",
   "name": "python3"
  },
  "language_info": {
   "codemirror_mode": {
    "name": "ipython",
    "version": 3
   },
   "file_extension": ".py",
   "mimetype": "text/x-python",
   "name": "python",
   "nbconvert_exporter": "python",
   "pygments_lexer": "ipython3",
   "version": "3.10.12"
  }
 },
 "nbformat": 4,
 "nbformat_minor": 5
}
