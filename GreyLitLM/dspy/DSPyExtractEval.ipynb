{
 "cells": [
  {
   "cell_type": "markdown",
   "id": "73c40ed4-71a7-409b-a8d5-b3a00084799a",
   "metadata": {},
   "source": [
    "# Metadata extraction using DSPy and a local LLM, with evaluation metrics\n",
    "\n",
    "To run this, you first need to start a local vLLM server in the backround with a command like this:\n",
    "\n",
    "    vllm serve $MODEL_ID --port 7987 --max-model-len 32768 --gpu-memory-utilization 0.9\n",
    "\n",
    "where MODEL_ID is e.g. `meta-llama/Llama-3.1-8B-Instruct` and the port has to match the PORT setting below."
   ]
  },
  {
   "cell_type": "code",
   "execution_count": 1,
   "id": "c5209ed6-b8db-4c6b-9030-b995851f8c41",
   "metadata": {},
   "outputs": [
    {
     "data": {
      "text/plain": [
       "['Okay! This is a test! 😊 \\n\\nLet me know if you need anything from me.']"
      ]
     },
     "execution_count": 1,
     "metadata": {},
     "output_type": "execute_result"
    }
   ],
   "source": [
    "import dspy\n",
    "\n",
    "MODEL_ID = \"google/gemma-3-4b-it\"  # should match the model vLLM is running (does it matter??)\n",
    "PORT = 7987  # should match the port where vLLM is running\n",
    "MAX_TOKENS = 1024  # limit on how many new tokens to generate (default: 4000)\n",
    "TEMPERATURE = 0.7\n",
    "\n",
    "lm = dspy.LM(\"openai/\" + MODEL_ID,\n",
    "             api_base=f\"http://localhost:{PORT}/v1\",  # ensure this points to your port\n",
    "             api_key=\"local\", model_type=\"chat\", max_tokens=MAX_TOKENS, temperature=TEMPERATURE)\n",
    "dspy.configure(lm=lm)\n",
    "\n",
    "# test the connection to the LLM\n",
    "lm(\"Say this is a test!\", temperature=0.0)  # => ['This is a test!']"
   ]
  },
  {
   "cell_type": "code",
   "execution_count": 2,
   "id": "875a6803-72a9-43a2-8cf9-f27be5322401",
   "metadata": {},
   "outputs": [
    {
     "data": {
      "text/plain": [
       "(512, 128, 182)"
      ]
     },
     "execution_count": 2,
     "metadata": {},
     "output_type": "execute_result"
    }
   ],
   "source": [
    "# Load and prepare dataset\n",
    "\n",
    "import json\n",
    "import glob\n",
    "import random\n",
    "\n",
    "random.seed(42)  # for deterministic sampling of validation set\n",
    "\n",
    "train_files = glob.glob(\"../../llm-dataset/*-train.jsonl\")\n",
    "test_files = glob.glob(\"../../llm-dataset/*-test.jsonl\")\n",
    "\n",
    "VAL_SIZE = 128  # how many documents to validate on during optimization\n",
    "\n",
    "def preprocess_sample(sample):\n",
    "    # fix some bad field names\n",
    "    ground_truth = { fld.replace('-', '_'): val for fld, val in sample[\"ground_truth\"].items() }\n",
    "    output = json.dumps(ground_truth)\n",
    "    input_ = json.dumps(sample[\"content\"])\n",
    "    return dspy.Example({\"content\": input_, \"metadata\": output}).with_inputs(\"content\")\n",
    "\n",
    "def dataset_to_records(files):\n",
    "    records = []\n",
    "    for filename in files:\n",
    "        with open(filename) as infile:\n",
    "            for line in infile:\n",
    "                sample = json.loads(line)\n",
    "                records.append(preprocess_sample(sample))\n",
    "    return records\n",
    "\n",
    "\n",
    "train_val_set = dataset_to_records(train_files)\n",
    "random.shuffle(train_val_set)\n",
    "\n",
    "train_set = train_val_set[VAL_SIZE:]\n",
    "val_set = train_val_set[:VAL_SIZE]\n",
    "\n",
    "test_set = dataset_to_records(test_files)\n",
    "\n",
    "len(train_set), len(val_set), len(test_set)"
   ]
  },
  {
   "cell_type": "code",
   "execution_count": 3,
   "id": "f1e18e61-353c-47cd-b0f7-2891a9269194",
   "metadata": {},
   "outputs": [
    {
     "name": "stdout",
     "output_type": "stream",
     "text": [
      "Input Message:\n",
      "{\"pdfinfo\": {\"creationDate\": \"D:20201214215341+01'00'\", \"modDate\": \"D:20201214215418+01'00'\"}, \"pages\": [{\"page\": 1, \"text\": \"# ANTAA TAITEEN OPETTAA\\n\\n\\n\"}, {\"page\": 3, \"text\": \"ANTA A TAITEEN OPETTA A GERT BIESTA\\n\\n\\n\"}, {\"page\": 4, \"text\": \"00:00:08.18\\n\\n\\n\"}, {\"page\": 5, \"text\": \"00:00:36.03 00:00:52.19 00:00:54.19\\n\\n\\n\"}, {\"page\": 6, \"text\": \"00:00:58.16 00:01:00.17 00:01:0\\n\\n\\n\"}, {\"page\": 65, \"text\": \"\\u2018Opastan sinua kaikessa, n\\u00e4yt\\u00e4n sinulle kaiken ja nime\\u00e4n kaiken.\\u2019\\n\\u2014 COMENIUS\\nT\\u00e4ss\\u00e4 kirjassa Gert Biesta esitt\\u00e4\\u00e4 uuden n\\u00e4kemyksen nykyaikaisesta taidekasvatuksesta\\n\\nosoittamalla, ett\\u00e4 taide tarjoaa ainutlaatuisia v\\u00e4lineit\\u00e4 olla dialogissa maailman kanssa. N\\u00e4kemys\\n\\nperustuu ajatukseen, ett\\u00e4 opettaminen on n\\u00e4ytt\\u00e4mist\\u00e4. Opettaja n\\u00e4ytt\\u00e4\\u00e4 oppilaalle millaisiin\\n\\nhyviin, t\\u00e4rkeisiin tai merkitt\\u00e4viin asioihin maailmassa voisi kiinnitt\\u00e4\\u00e4 huomiota. Biesta havainnol\\nlistaa asiaa ottamalla l\\u00e4ht\\u00f6kohdaksi Joseph Beuysin vuonna 1965 esitt\\u00e4m\\u00e4n performanssin\\n_Kuinka selitt\\u00e4\\u00e4 kuvia kuolleelle j\\u00e4nikselle_ . Kirjassa on useita kuvia t\\u00e4st\\u00e4 tapahtumasta.\\nGERT BIESTA (www.gertbiesta.com) on kasvatustieteen professori Lontoon Brunel\\n\\nyliopistossa sek\\u00e4 kasvatustieteen NIVOZ professori Humanististen tieteiden yliopistossa\\nAlankomaissa. H\\u00e4n on my\\u00f6s vieraileva professori NLA yliopistossa Bergeniss\\u00e4, Norjassa.\\nVuoteen 2016 asti h\\u00e4n oli vieraileva professori Taideyliopisto ArtEZissa Alankomaissa. Vuosina\\n\\n1999\\u20132014 h\\u00e4n oli _Studies in Philosophy and Education_ lehden p\\u00e4\\u00e4toimittaja ja vuodesta\\n\\n2016 l\\u00e4htien _Educational Theory_ lehden toimituskunnan j\\u00e4sen. H\\u00e4nell\\u00e4 on runsaasti kasvatuksen\\n\\nteorian ja filosofian sek\\u00e4 kasvatus- ja sosiaalitieteiden alaan kuuluvia julkaisuja. H\\u00e4nen\\n\\nmonografioitaan ovat _Beyond Learning; Democratic Education for a Human Future_ (Paradigm\\nPublishers 2006, kirja voitti vuonna 2008 Amerikan kasvatustieteellisen yhdistyksen\\n\\n(AESA) Kriitikon valinta palkinnon), _Good Education in an Age of Measurement: Ethics, politics,_\\n\\n_democracy_ (Paradigm Publishers 2010) sek\\u00e4 _The Beautiful Risk of Education_ (Paradigm\\nPublishers 2014, kirja sai Amerikan kasvatuksen tutkimuksen yhdistyksen (AERA, Division B)\\n\\npalkinnon samana vuonna). H\\u00e4nen tuotantoaan on t\\u00e4h\\u00e4n menness\\u00e4 k\\u00e4\\u00e4nnetty 16 kielelle\\n\\n(englanti, hollanti, saksa, ruotsi, suomi, islanti, italia, espanja, katalaani, portugali, puola, romania,\\n\\nven\\u00e4j\\u00e4, kiina ja japani). Vuosina 2011\\u20132012 h\\u00e4n toimi Yhdysvaltojen kasvatusfilofisen\\n\\nyhdistyksen puheenjohtajana.\\nARTEZ UNIVERSITY OF THE ARTS on iso taideakatemia Alankomaissa.\\nArtEZ kouluttaa ammatteihin, joissa taide, tieto ja luovuus ovat keskeisi\\u00e4. ArtEZ Press,\\nArtEZin oma kustantamo. Filosofiamme on, ett\\u00e4 jokaisen ArtEZ Press -lehden tulisi olla arvokas\\n\\ntaiteelle ja yhteiskunnalle. Julkaisumme ohjaavat muutosta ja innovaatioita, tarjoavat uusia\\n\\nn\\u00e4k\\u00f6kulmia ja osoittavat taiteen voiman. Ne ovat inspiroiva tietol\\u00e4hde opiskelijoille, taiteilijoille,\\n\\ntutkijoille ja kaikille taiteesta, kulttuurista ja koulutuksesta kiinnostuneille. Julkaisumme\\n\\nstimuloivat monimuotoisuutta ja rikkautta teoriassa ja k\\u00e4yt\\u00e4nn\\u00f6ss\\u00e4.\\nVuonna 2005 perustettu kustantamomme julkaisee sis\\u00e4ll\\u00f6lt\\u00e4\\u00e4n ja muotoilultaan\\n\\nkorkealaatuisia kirjoja. Ainutlaatuinen muotoilu tukee sis\\u00e4lt\\u00f6\\u00e4 ja p\\u00e4invastoin. ArtEZ Pressin\\n\\nvuosien varrella rakentama huolellisesti kuratoitu kokoelma edustaa monia aloja, kuten\\n\\narkkitehtuuri, kuvataide, tanssi, sisustus, taidekasvatus, muoti, musiikki, musiikkiterapia,\\n\\ntuotesuunnittelu, teatteri, muotoilu ja taideteoria.\\n\\n\\n\"}, {\"page\": 66, \"text\": \"# TAIDEKASVATUS JOSEPH BEUYSIN \\u2018J\\u00c4LKEEN\\u2019\\n\\n\\n\"}]}\n",
      "\n",
      "\n",
      "Gold Answer:\n",
      "language: fi\n",
      "title: Antaa taiteen opettaa : taidekasvatus Joseph Beuysin 'jälkeen'\n",
      "creator: ['Biesta, Gert']\n",
      "year: 2020\n",
      "publisher: ['ArtEZ Press', 'Taideyliopisto']\n",
      "e_isbn: ['9789523291928']\n",
      "type_coar: book\n"
     ]
    }
   ],
   "source": [
    "print(\"Input Message:\")\n",
    "print(train_set[-1]['content'])\n",
    "\n",
    "print(\"\\n\\nGold Answer:\")\n",
    "for k, v in json.loads(train_set[-1]['metadata']).items():\n",
    "    print(f\"{k}: {v}\")"
   ]
  },
  {
   "cell_type": "code",
   "execution_count": 4,
   "id": "93b029db-7ee1-4e8c-97f9-353ce5db1d6c",
   "metadata": {},
   "outputs": [
    {
     "name": "stdout",
     "output_type": "stream",
     "text": [
      "Prediction(\n",
      "    reasoning='The text describes an announcement by Apple Inc. regarding the iPhone 14. I can identify the organization (Apple Inc.), the product (iPhone 14), the CEO (Tim Cook), and the type of announcement (press release). I will extract the relevant information and format it into the required metadata fields.',\n",
      "    language='en',\n",
      "    title='iPhone 14 Announcement',\n",
      "    alt_title=[],\n",
      "    creator=['Apple Inc.', 'Tim Cook'],\n",
      "    year=None,\n",
      "    publisher=['Apple Inc.'],\n",
      "    doi=None,\n",
      "    e_isbn=[],\n",
      "    p_isbn=[],\n",
      "    e_issn=None,\n",
      "    p_issn=None,\n",
      "    type_coar='News Article'\n",
      ")\n"
     ]
    }
   ],
   "source": [
    "from typing import Optional\n",
    "\n",
    "class ExtractInfo(dspy.Signature):\n",
    "    \"\"\"Extract structured metadata from text extracted from a PDF.\"\"\"\n",
    "\n",
    "    content: str = dspy.InputField()\n",
    "    language: str = dspy.OutputField(desc=\"The language of the resource expressed as a BCP47 language tag.\")\n",
    "    title: str = dspy.OutputField(desc=\"The main title of the publication.\")\n",
    "    alt_title: list[str] = dspy.OutputField(desc=\"Alternative or parallel titles of the publication, suffixed with a BCP47 language tag in curly brackets.\")\n",
    "    creator: list[str] = dspy.OutputField(desc=\"The primary author(s) of the resource.\")\n",
    "    year: Optional[str] = dspy.OutputField(desc=\"The year on which the resource was issued or made available.\")\n",
    "    publisher: list[str] = dspy.OutputField(desc=\"The entity/entities responsible for making the resource available.\")\n",
    "    doi: Optional[str] = dspy.OutputField(desc=\"The Digital Object Identifier (DOI) associated with the resource.\")\n",
    "    e_isbn: list[str] = dspy.OutputField(desc=\"The ISBN associated with the electronic resource.\")\n",
    "    p_isbn: list[str] = dspy.OutputField(desc=\"The ISBN of the printed version of this document.\")\n",
    "    e_issn: Optional[str] = dspy.OutputField(desc=\"The ISSN associated with the electronic resource.\")\n",
    "    p_issn: Optional[str] = dspy.OutputField(desc=\"The ISSN of the printed version of this document.\")\n",
    "    type_coar: str = dspy.OutputField(desc=\"The type of the resource according to the COAR Resource Types classification.\")\n",
    "\n",
    "module = dspy.ChainOfThought(ExtractInfo)\n",
    "\n",
    "text = \"Apple Inc. announced its latest iPhone 14 today.\" \\\n",
    "    \"The CEO, Tim Cook, highlighted its new features in a press release.\"\n",
    "response = module(content=text)\n",
    "\n",
    "print(response)\n"
   ]
  },
  {
   "cell_type": "code",
   "execution_count": 5,
   "id": "5a1b736e-de88-4f36-b895-5611a8fbf3bc",
   "metadata": {},
   "outputs": [],
   "source": [
    "import Levenshtein\n",
    "\n",
    "ALMOST_THRESHOLD = 0.9  # Adjust as needed\n",
    "\n",
    "def compare_simple_string(true_val, pred_val):\n",
    "    if pred_val is None and true_val is None:\n",
    "        return 1\n",
    "    elif true_val is None:\n",
    "        return 0\n",
    "    elif pred_val is None:\n",
    "        return 0\n",
    "    elif true_val == str(pred_val):\n",
    "        return 1\n",
    "    else:\n",
    "        return 0\n",
    "\n",
    "def compare_fuzzy_string(true_val, pred_val):\n",
    "    base_score = compare_simple_string(true_val, pred_val)\n",
    "    if base_score == 1:\n",
    "        return 1\n",
    "    if true_val.lower() == pred_val.lower():\n",
    "        return 1\n",
    "    elif Levenshtein.ratio(true_val, pred_val) >= ALMOST_THRESHOLD:\n",
    "        return 1\n",
    "    elif Levenshtein.ratio(true_val.lower(), pred_val.lower()) >= ALMOST_THRESHOLD:\n",
    "        return 1\n",
    "    else:\n",
    "        return 0\n",
    "\n",
    "def compare_set(true_val, pred_val):\n",
    "    true_set = set(true_val) if true_val else set()\n",
    "    pred_set = set(pred_val) if pred_val else set()\n",
    "\n",
    "    if not true_set and not pred_set:\n",
    "        return 1\n",
    "    elif not true_set or not pred_set:\n",
    "        return 0\n",
    "    elif true_set == pred_set:\n",
    "        return 1\n",
    "    tp = len(true_set & pred_set)\n",
    "    fp = len(pred_set - true_set)\n",
    "    fn = len(true_set - pred_set)\n",
    "\n",
    "    precision = tp / (tp + fp) if (tp + fp) > 0 else 0\n",
    "    recall = tp / (tp + fn) if (tp + fn) > 0 else 0\n",
    "    f1 = 2 * precision * recall / (precision + recall) if (precision + recall) > 0 else 0\n",
    "    return f1\n",
    "\n",
    "def compare_e_issn(true_val, pred_val, p_issn_val):\n",
    "    base_score = compare_simple_string(true_val, pred_val)\n",
    "    if base_score == 1:\n",
    "        return 1\n",
    "    if p_issn_val and pred_val == p_issn_val:\n",
    "        return 1 if true_val is None else 0\n",
    "    return 0\n",
    "\n",
    "def metadata_metric(example, pred, trace=None):\n",
    "    fields = [\n",
    "        'language', 'title', 'creator', 'year', 'publisher',\n",
    "        'doi', 'e_isbn', 'p_isbn', 'e_issn', 'p_issn', 'type_coar'\n",
    "    ]\n",
    "\n",
    "    scores = []\n",
    "    for field in fields:\n",
    "        true_val = json.loads(example.get(\"metadata\", \"{}\")).get(field)\n",
    "        pred_val = pred.get(field) or None  # represent empty predictions as None\n",
    "\n",
    "        if field in ['language', 'year', 'doi', 'p_issn', 'type_coar']:\n",
    "            score = compare_simple_string(true_val, pred_val)\n",
    "        elif field == 'title':\n",
    "            score = compare_fuzzy_string(true_val, pred_val)\n",
    "        elif field in ['creator', 'publisher', 'e_isbn', 'p_isbn']:\n",
    "            score = compare_set(true_val, pred_val)\n",
    "        elif field == 'e_issn':\n",
    "            p_issn_val = example.get(\"ground_truth\", {}).get(\"p_issn\")\n",
    "            score = compare_e_issn(true_val, pred_val, p_issn_val)\n",
    "        else:\n",
    "            score = compare_simple_string(true_val, pred_val)\n",
    "\n",
    "        #print(field, repr(true_val), repr(pred_val), score)\n",
    "        scores.append(score)\n",
    "\n",
    "    return sum(scores) / len(scores) if scores else 0\n"
   ]
  },
  {
   "cell_type": "code",
   "execution_count": 6,
   "id": "64fd078d-3aef-4ff7-8aa1-04e23d70f3d0",
   "metadata": {},
   "outputs": [
    {
     "name": "stdout",
     "output_type": "stream",
     "text": [
      "Average Metric: 107.20 / 182 (58.9%): 100%|██████████| 182/182 [01:48<00:00,  1.68it/s]"
     ]
    },
    {
     "name": "stderr",
     "output_type": "stream",
     "text": [
      "2025/09/27 10:27:46 INFO dspy.evaluate.evaluate: Average Metric: 107.19936006022962 / 182 (58.9%)\n",
      "2025/09/27 10:27:46 WARNING dspy.evaluate.evaluate: Skipping table display since `pandas` is not installed.\n"
     ]
    },
    {
     "name": "stdout",
     "output_type": "stream",
     "text": [
      "\n",
      "CPU times: user 3.51 s, sys: 727 ms, total: 4.23 s\n",
      "Wall time: 1min 48s\n"
     ]
    }
   ],
   "source": [
    "%%time\n",
    "\n",
    "evaluate = dspy.Evaluate(\n",
    "    devset=test_set,\n",
    "    metric=metadata_metric,\n",
    "    num_threads=64, # default 32\n",
    "    display_table=True,\n",
    "    display_progress=True\n",
    ")\n",
    "\n",
    "eval_result = evaluate(module)"
   ]
  },
  {
   "cell_type": "code",
   "execution_count": 7,
   "id": "d172f585-0442-4a4e-9295-bdedfe21fc6f",
   "metadata": {},
   "outputs": [
    {
     "name": "stdout",
     "output_type": "stream",
     "text": [
      "\n",
      "\n",
      "\n",
      "\n",
      "\u001b[34m[2025-09-27T10:27:46.125228]\u001b[0m\n",
      "\n",
      "\u001b[31mSystem message:\u001b[0m\n",
      "\n",
      "Your input fields are:\n",
      "1. `content` (str):\n",
      "Your output fields are:\n",
      "1. `reasoning` (str): \n",
      "2. `language` (str): The language of the resource expressed as a BCP47 language tag.\n",
      "3. `title` (str): The main title of the publication.\n",
      "4. `alt_title` (list[str]): Alternative or parallel titles of the publication, suffixed with a BCP47 language tag in curly brackets.\n",
      "5. `creator` (list[str]): The primary author(s) of the resource.\n",
      "6. `year` (Union[str, NoneType]): The year on which the resource was issued or made available.\n",
      "7. `publisher` (list[str]): The entity/entities responsible for making the resource available.\n",
      "8. `doi` (Union[str, NoneType]): The Digital Object Identifier (DOI) associated with the resource.\n",
      "9. `e_isbn` (list[str]): The ISBN associated with the electronic resource.\n",
      "10. `p_isbn` (list[str]): The ISBN of the printed version of this document.\n",
      "11. `e_issn` (Union[str, NoneType]): The ISSN associated with the electronic resource.\n",
      "12. `p_issn` (Union[str, NoneType]): The ISSN of the printed version of this document.\n",
      "13. `type_coar` (str): The type of the resource according to the COAR Resource Types classification.\n",
      "All interactions will be structured in the following way, with the appropriate values filled in.\n",
      "\n",
      "Inputs will have the following structure:\n",
      "\n",
      "[[ ## content ## ]]\n",
      "{content}\n",
      "\n",
      "Outputs will be a JSON object with the following fields.\n",
      "\n",
      "{\n",
      "  \"reasoning\": \"{reasoning}\",\n",
      "  \"language\": \"{language}\",\n",
      "  \"title\": \"{title}\",\n",
      "  \"alt_title\": \"{alt_title}        # note: the value you produce must adhere to the JSON schema: {\\\"type\\\": \\\"array\\\", \\\"items\\\": {\\\"type\\\": \\\"string\\\"}}\",\n",
      "  \"creator\": \"{creator}        # note: the value you produce must adhere to the JSON schema: {\\\"type\\\": \\\"array\\\", \\\"items\\\": {\\\"type\\\": \\\"string\\\"}}\",\n",
      "  \"year\": \"{year}        # note: the value you produce must adhere to the JSON schema: {\\\"anyOf\\\": [{\\\"type\\\": \\\"string\\\"}, {\\\"type\\\": \\\"null\\\"}]}\",\n",
      "  \"publisher\": \"{publisher}        # note: the value you produce must adhere to the JSON schema: {\\\"type\\\": \\\"array\\\", \\\"items\\\": {\\\"type\\\": \\\"string\\\"}}\",\n",
      "  \"doi\": \"{doi}        # note: the value you produce must adhere to the JSON schema: {\\\"anyOf\\\": [{\\\"type\\\": \\\"string\\\"}, {\\\"type\\\": \\\"null\\\"}]}\",\n",
      "  \"e_isbn\": \"{e_isbn}        # note: the value you produce must adhere to the JSON schema: {\\\"type\\\": \\\"array\\\", \\\"items\\\": {\\\"type\\\": \\\"string\\\"}}\",\n",
      "  \"p_isbn\": \"{p_isbn}        # note: the value you produce must adhere to the JSON schema: {\\\"type\\\": \\\"array\\\", \\\"items\\\": {\\\"type\\\": \\\"string\\\"}}\",\n",
      "  \"e_issn\": \"{e_issn}        # note: the value you produce must adhere to the JSON schema: {\\\"anyOf\\\": [{\\\"type\\\": \\\"string\\\"}, {\\\"type\\\": \\\"null\\\"}]}\",\n",
      "  \"p_issn\": \"{p_issn}        # note: the value you produce must adhere to the JSON schema: {\\\"anyOf\\\": [{\\\"type\\\": \\\"string\\\"}, {\\\"type\\\": \\\"null\\\"}]}\",\n",
      "  \"type_coar\": \"{type_coar}\"\n",
      "}\n",
      "In adhering to this structure, your objective is: \n",
      "        Extract structured metadata from text extracted from a PDF.\n",
      "\n",
      "\n",
      "\u001b[31mUser message:\u001b[0m\n",
      "\n",
      "[[ ## content ## ]]\n",
      "{\"pdfinfo\": {\"title\": \"ePooki 112_2020\", \"author\": \"Sirpa\", \"creationDate\": \"D:20201217145737+02'00'\", \"modDate\": \"D:20201217145740+02'00'\"}, \"pages\": [{\"page\": 1, \"text\": \"**ePooki 112/2020**\\n\\n# Pitk\\u00e4aikaissairauksien ja suun limakalvomuutosten yhteys\\n\\n\\n**[Tapio Anni, Sepp\\u00e4l\\u00e4 Anne-Mari, Luoto Annika, Holappa-Girginkaya Jaana, Kuure Marja-Helena, Kein\\u00e4nen](http://www.oamk.fi/epooki/kirjoittajat/tapio-anni)**\\n\\n**[Anna-Leena](http://www.oamk.fi/epooki/kirjoittajat/keinanen-anna-leena)**\\n\\n17.12.2020 ::\\n**Pitk\\u00e4aikaissairauksilla on todettu olevan yhteytt\\u00e4 suun limakalvomuutoksiin, jotka pitk\\u00e4lle**\\n**edetess\\u00e4\\u00e4n voivat olla haitaksi yleisterveydelle. Suun terveys on t\\u00e4rke\\u00e4 osa yleisterveytt\\u00e4, joten**\\n**oikeaoppinen suun omahoito on ensiarvoisen t\\u00e4rke\\u00e4\\u00e4. Erityisesti pitk\\u00e4aikaissairauden omaavan**\\n**henkil\\u00f6n on huolehdittava suuhygieniastaan, sill\\u00e4 suun terveydell\\u00e4 ja monella pitk\\u00e4aikaissairaudella**\\n**on molemminpuolinen yhteys. Hyv\\u00e4ll\\u00e4 suuhygienialla edesautetaan pitk\\u00e4aikaissairauksien ja niist\\u00e4**\\n**mahdollisesti aiheutuvien limakalvomuutosten paranemista. T\\u00e4ss\\u00e4 artikkelissa tuodaan esille**\\n**pitk\\u00e4aikaissairauksissa esiintyvi\\u00e4 suun limakalvomuutoksia.**\\nKUVA: Oleg Magni/Pexels.com\\n\\n\\n\"}, {\"page\": 2, \"text\": \"**Johdanto**\\nArtikkelissa kuvataan suun limakalvomuutoksia, joita voi esiinty\\u00e4 kyseisten pitk\\u00e4aikaissairauksien yhteydess\\u00e4.\\n**Huonon verensokeritasapainon yhteys suun limakalvomuutosten oireisiin**\\n**Vaaleita juosteita suun limakalvoilla: punaj\\u00e4k\\u00e4l\\u00e4 vai punahukka?**\\nPunaj\\u00e4k\\u00e4l\\u00e4n yhteydess\\u00e4 voi ilmet\\u00e4 sienitulehdusta, joka voi pahentaa punaj\\u00e4k\\u00e4l\\u00e4n oireita. [[2]]\\n**Verisairaudet voivat n\\u00e4ky\\u00e4 suussa haavaumina**\\n**Mit\\u00e4 ovat leukoplakia ja erytroplakia?**\"}, {\"page\": 3, \"text\": \"**Kuiva suu voi olla yhteydess\\u00e4 sidekudossairauteen**\\n**Nivelreuma** itsess\\u00e4\\u00e4n voi aiheuttaa suun kuivuutta, jolloin puhutaan sekundaarisesta Sj\\u00f6grenin syndroomasta.\\nSuun kuivumisen takia my\\u00f6s riski sienitulehduksille ja hampaiden kiinnityskudossairauksille kasvaa. [[8]]\\n**Ruuansulatuselimist\\u00f6\\u00f6n liittyv\\u00e4t sairaudet voivat ilmet\\u00e4 erilaisina suun**\\n**limakalvomuutoksina**\\n**Crohnin taudin** aiheuttamia spesifisi\\u00e4 suun limakalvomuutoksia ovat mukulakivim\\u00e4inen limakalvomuutos\\nposken limakalvoilla, ientulehdus, huulten turvotus ja halkeilu ja syv\\u00e4t lineaariset (suoraviivaiset) haavaumat.\\n**Lopuksi**\"}, {\"page\": 4, \"text\": \"**L\\u00e4hteet**\\nLuoto, A., Sepp\\u00e4l\\u00e4, A-M. & Tapio, A. 2020.\\nOpinn\\u00e4ytety\\u00f6ss\\u00e4 tuotettu opas:\\nOulu: Tamro Oyj.\\n\\n\\n1. [^Leite, R.S., Marlow, N.M. & Fernandes, J.K. 2013. Oral Health and Type 2 Diabetes. The](http://www.oamk.fi/epooki/index.php?cID=2241#cite-ref-0-0)\\nHammasl\\u00e4\\u00e4k\\u00e4riseuran Apollonia ry:n asettama ty\\u00f6ryhm\\u00e4. Hakup\\u00e4iv\\u00e4 16.1.2020.\\n[https://www.kaypahoito.fi/hoi07025](https://www.kaypahoito.fi/hoi07025)\\n7. [^Joensuu, H., Roberts, P.J., Kellokumpu-Lehtinen, P., Jyrkki\\u00f6, S., Kouri, M. & Teppo, L. 2013.](http://www.oamk.fi/epooki/index.php?cID=2241#cite-ref-0-6)\\nKustannus Oy Duodecim.\\n12. [^Heikka, H., Honkala, S., Heikkinen, A.M., Helenius-Hietala, J. & Sirvi\\u00f6, K. 2020. Terve suu. 4.](http://www.oamk.fi/epooki/index.php?cID=2241#cite-ref-0-11)\\n\\nuud. p. Helsinki: Kustannus Oy Duodecim.\\n13. [^She, Y., Kong, X., Ge, Y., Liu, Z., Chen, J., Jiang, J., Jiang, H. & Fang, S. 2020. Periodontitis](http://www.oamk.fi/epooki/index.php?cID=2241#cite-ref-0-12)\\n\\nand inflammatory bowel disease: a meta-analysis. BMC Oral Health 20 (1), 67 Hakup\\u00e4iv\\u00e4\\n7.4.2020.\\n[https://doi.org/10.1186/s12903-020-1053-5](https://doi.org/10.1186/s12903-020-1053-5)\\n14. [^Lankarani, K.B., Sivandzadeh, G.R. & Hassanpour, S. 2013. Oral manifestation in inflammatory](http://www.oamk.fi/epooki/index.php?cID=2241#cite-ref-0-13)\\n\\nbowel disease: A review. World journal of gastroenterology 19 (46), 8571\\u20138579. Hakup\\u00e4iv\\u00e4\\n8.3.2020. https://dx.doi.org/10.3748%2Fwjg.v19.i46.8571\\n\\n\\n\"}, {\"page\": 5, \"text\": \"**Metatiedot**\\n**Aihe, asiasanat:** krooniset taudit, limakalvot, suu\\n**Julkaisija:** Oulun ammattikorkeakoulu, Oamk\\n**Aikam\\u00e4\\u00e4re:** Julkaistu 2020-12-17\\n**Pysyv\\u00e4 osoite:** http://urn.fi/urn:nbn:fi-fe2020111690602\\n**Kieli:** suomi\\n**Suhde:** [http://urn.fi/URN:ISSN:1798-2022, ePooki - Oulun ammattikorkeakoulun tutkimus- ja kehitysty\\u00f6n](http://urn.fi/URN:ISSN:1798-2022)\\njulkaisut\\n**Oikeudet:** CC BY-NC-ND 4.0\\n**N\\u00e4in viittaat t\\u00e4h\\u00e4n julkaisuun**\\nTapio, A., Sepp\\u00e4l\\u00e4, A-M., Luoto, A., Jaana, H-G., Marja-Helena, K. & Anna-Leena, K. 2020.\"}]}\n",
      "\n",
      "Respond with a JSON object in the following order of fields: `reasoning`, then `language`, then `title`, then `alt_title` (must be formatted as a valid Python list[str]), then `creator` (must be formatted as a valid Python list[str]), then `year` (must be formatted as a valid Python Union[str, NoneType]), then `publisher` (must be formatted as a valid Python list[str]), then `doi` (must be formatted as a valid Python Union[str, NoneType]), then `e_isbn` (must be formatted as a valid Python list[str]), then `p_isbn` (must be formatted as a valid Python list[str]), then `e_issn` (must be formatted as a valid Python Union[str, NoneType]), then `p_issn` (must be formatted as a valid Python Union[str, NoneType]), then `type_coar`.\n",
      "\n",
      "\n",
      "\u001b[31mResponse:\u001b[0m\n",
      "\n",
      "\u001b[32m{\n",
      "  \"reasoning\": \"The text is a PDF document containing an article titled \\\"ePooki 112_2020\\\". I have extracted the title, author(s), publication date, and other metadata from the document. The language is Finnish.\",\n",
      "  \"language\": \"fi\",\n",
      "  \"title\": \"ePooki 112/2020\",\n",
      "  \"alt_title\": [\n",
      "    \"Pitk\\u00e4ikaissairauksien ja suun limakalvomuutosten yhteys\"\n",
      "  ],\n",
      "  \"creator\": [\n",
      "    \"Sirpa\",\n",
      "    \"Tapio Anni\",\n",
      "    \"Sepp\\u00e4l\\u00e4 Anne-Mari\",\n",
      "    \"Luoto Annika\",\n",
      "    \"Holappa-Girginkaya Jaana\",\n",
      "    \"Kuure Marja-Helena\",\n",
      "    \"Kein\\u00e4nen\"\n",
      "  ],\n",
      "  \"year\": \"2020\",\n",
      "  \"publisher\": [\n",
      "    \"Oulun ammattikorkeakoulu, Oamk\"\n",
      "  ],\n",
      "  \"doi\": null,\n",
      "  \"e_isbn\": [],\n",
      "  \"p_isbn\": [],\n",
      "  \"e_issn\": null,\n",
      "  \"p_issn\": null,\n",
      "  \"type_coar\": \"Journal Article\"\n",
      "}\u001b[0m\n",
      "\n",
      "\n",
      "\n",
      "\n",
      "\n"
     ]
    }
   ],
   "source": [
    "lm.inspect_history()"
   ]
  },
  {
   "cell_type": "code",
   "execution_count": null,
   "id": "99baf332-ed43-4947-9183-89fd35bee3f1",
   "metadata": {},
   "outputs": [],
   "source": []
  }
 ],
 "metadata": {
  "kernelspec": {
   "display_name": "fingreylit-dspy",
   "language": "python",
   "name": "fingreylit-dspy"
  },
  "language_info": {
   "codemirror_mode": {
    "name": "ipython",
    "version": 3
   },
   "file_extension": ".py",
   "mimetype": "text/x-python",
   "name": "python",
   "nbconvert_exporter": "python",
   "pygments_lexer": "ipython3",
   "version": "3.12.3"
  }
 },
 "nbformat": 4,
 "nbformat_minor": 5
}
