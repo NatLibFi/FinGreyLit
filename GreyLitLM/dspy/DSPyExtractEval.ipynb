{
 "cells": [
  {
   "cell_type": "markdown",
   "id": "73c40ed4-71a7-409b-a8d5-b3a00084799a",
   "metadata": {},
   "source": [
    "# Metadata extraction using DSPy and a local LLM, with evaluation metrics\n",
    "\n",
    "To run this, you first need to start a local vLLM server in the backround with a command like this:\n",
    "\n",
    "    vllm serve $MODEL_ID --port 7987 --max-model-len 32768 --gpu-memory-utilization 0.9\n",
    "\n",
    "where MODEL_ID is e.g. `meta-llama/Llama-3.1-8B-Instruct` and the port has to match the PORT setting below."
   ]
  },
  {
   "cell_type": "code",
   "execution_count": 1,
   "id": "c5209ed6-b8db-4c6b-9030-b995851f8c41",
   "metadata": {},
   "outputs": [
    {
     "data": {
      "text/plain": [
       "[\"Alright, let's proceed with the test. What would you like to test? Here are a few options:\\n\\n1. **Trivia**: I can ask you questions on a topic of your choice.\\n2. **Language**: I can help you practice a foreign language.\\n3. **Math**: I can provide math problems to solve.\\n4. **General Knowledge**: I can ask you questions on a wide range of topics.\\n\\nPlease choose one, or let me know if there's something specific you'd like to test.\"]"
      ]
     },
     "execution_count": 1,
     "metadata": {},
     "output_type": "execute_result"
    }
   ],
   "source": [
    "import dspy\n",
    "\n",
    "MODEL_ID = \"mistralai/Mistral-Small-3.1-24B-Instruct-2503\"  # should match the model vLLM is running (does it matter??)\n",
    "PORT = 7987  # should match the port where vLLM is running\n",
    "MAX_TOKENS = 2048  # limit on how many new tokens to generate (default: 4000)\n",
    "TEMPERATURE = 0.7\n",
    "\n",
    "lm = dspy.LM(\"openai/\" + MODEL_ID,\n",
    "             api_base=f\"http://localhost:{PORT}/v1\",  # ensure this points to your port\n",
    "             api_key=\"local\", model_type=\"chat\", max_tokens=MAX_TOKENS, temperature=TEMPERATURE)\n",
    "dspy.configure(lm=lm)\n",
    "\n",
    "# test the connection to the LLM\n",
    "lm(\"Say this is a test!\", temperature=0.0)  # => ['This is a test!']"
   ]
  },
  {
   "cell_type": "code",
   "execution_count": 2,
   "id": "875a6803-72a9-43a2-8cf9-f27be5322401",
   "metadata": {},
   "outputs": [
    {
     "data": {
      "text/plain": [
       "(512, 128, 182)"
      ]
     },
     "execution_count": 2,
     "metadata": {},
     "output_type": "execute_result"
    }
   ],
   "source": [
    "# Load and prepare dataset\n",
    "\n",
    "import json\n",
    "import glob\n",
    "import random\n",
    "\n",
    "random.seed(42)  # for deterministic sampling of validation set\n",
    "\n",
    "train_files = glob.glob(\"../../llm-dataset/*-train.jsonl\")\n",
    "test_files = glob.glob(\"../../llm-dataset/*-test.jsonl\")\n",
    "\n",
    "VAL_SIZE = 128  # how many documents to validate on during optimization\n",
    "\n",
    "def preprocess_sample(sample):\n",
    "    # fix some bad field names\n",
    "    ground_truth = { fld.replace('-', '_'): val for fld, val in sample[\"ground_truth\"].items() }\n",
    "    output = json.dumps(ground_truth)\n",
    "    input_ = json.dumps(sample[\"content\"])\n",
    "    return dspy.Example({\"content\": input_, \"metadata\": output}).with_inputs(\"content\")\n",
    "\n",
    "def dataset_to_records(files):\n",
    "    records = []\n",
    "    for filename in files:\n",
    "        with open(filename) as infile:\n",
    "            for line in infile:\n",
    "                sample = json.loads(line)\n",
    "                records.append(preprocess_sample(sample))\n",
    "    return records\n",
    "\n",
    "\n",
    "train_val_set = dataset_to_records(train_files)\n",
    "random.shuffle(train_val_set)\n",
    "\n",
    "train_set = train_val_set[VAL_SIZE:]\n",
    "val_set = train_val_set[:VAL_SIZE]\n",
    "\n",
    "test_set = dataset_to_records(test_files)\n",
    "\n",
    "len(train_set), len(val_set), len(test_set)"
   ]
  },
  {
   "cell_type": "code",
   "execution_count": 3,
   "id": "f1e18e61-353c-47cd-b0f7-2891a9269194",
   "metadata": {},
   "outputs": [
    {
     "name": "stdout",
     "output_type": "stream",
     "text": [
      "Input Message:\n",
      "{\"pdfinfo\": {\"creationDate\": \"D:20201214215341+01'00'\", \"modDate\": \"D:20201214215418+01'00'\"}, \"pages\": [{\"page\": 1, \"text\": \"# ANTAA TAITEEN OPETTAA\\n\\n\\n\"}, {\"page\": 3, \"text\": \"ANTA A TAITEEN OPETTA A GERT BIESTA\\n\\n\\n\"}, {\"page\": 4, \"text\": \"00:00:08.18\\n\\n\\n\"}, {\"page\": 5, \"text\": \"00:00:36.03 00:00:52.19 00:00:54.19\\n\\n\\n\"}, {\"page\": 6, \"text\": \"00:00:58.16 00:01:00.17 00:01:0\\n\\n\\n\"}, {\"page\": 65, \"text\": \"\\u2018Opastan sinua kaikessa, n\\u00e4yt\\u00e4n sinulle kaiken ja nime\\u00e4n kaiken.\\u2019\\n\\u2014 COMENIUS\\nT\\u00e4ss\\u00e4 kirjassa Gert Biesta esitt\\u00e4\\u00e4 uuden n\\u00e4kemyksen nykyaikaisesta taidekasvatuksesta\\n\\nosoittamalla, ett\\u00e4 taide tarjoaa ainutlaatuisia v\\u00e4lineit\\u00e4 olla dialogissa maailman kanssa. N\\u00e4kemys\\n\\nperustuu ajatukseen, ett\\u00e4 opettaminen on n\\u00e4ytt\\u00e4mist\\u00e4. Opettaja n\\u00e4ytt\\u00e4\\u00e4 oppilaalle millaisiin\\n\\nhyviin, t\\u00e4rkeisiin tai merkitt\\u00e4viin asioihin maailmassa voisi kiinnitt\\u00e4\\u00e4 huomiota. Biesta havainnol\\nlistaa asiaa ottamalla l\\u00e4ht\\u00f6kohdaksi Joseph Beuysin vuonna 1965 esitt\\u00e4m\\u00e4n performanssin\\n_Kuinka selitt\\u00e4\\u00e4 kuvia kuolleelle j\\u00e4nikselle_ . Kirjassa on useita kuvia t\\u00e4st\\u00e4 tapahtumasta.\\nGERT BIESTA (www.gertbiesta.com) on kasvatustieteen professori Lontoon Brunel\\n\\nyliopistossa sek\\u00e4 kasvatustieteen NIVOZ professori Humanististen tieteiden yliopistossa\\nAlankomaissa. H\\u00e4n on my\\u00f6s vieraileva professori NLA yliopistossa Bergeniss\\u00e4, Norjassa.\\nVuoteen 2016 asti h\\u00e4n oli vieraileva professori Taideyliopisto ArtEZissa Alankomaissa. Vuosina\\n\\n1999\\u20132014 h\\u00e4n oli _Studies in Philosophy and Education_ lehden p\\u00e4\\u00e4toimittaja ja vuodesta\\n\\n2016 l\\u00e4htien _Educational Theory_ lehden toimituskunnan j\\u00e4sen. H\\u00e4nell\\u00e4 on runsaasti kasvatuksen\\n\\nteorian ja filosofian sek\\u00e4 kasvatus- ja sosiaalitieteiden alaan kuuluvia julkaisuja. H\\u00e4nen\\n\\nmonografioitaan ovat _Beyond Learning; Democratic Education for a Human Future_ (Paradigm\\nPublishers 2006, kirja voitti vuonna 2008 Amerikan kasvatustieteellisen yhdistyksen\\n\\n(AESA) Kriitikon valinta palkinnon), _Good Education in an Age of Measurement: Ethics, politics,_\\n\\n_democracy_ (Paradigm Publishers 2010) sek\\u00e4 _The Beautiful Risk of Education_ (Paradigm\\nPublishers 2014, kirja sai Amerikan kasvatuksen tutkimuksen yhdistyksen (AERA, Division B)\\n\\npalkinnon samana vuonna). H\\u00e4nen tuotantoaan on t\\u00e4h\\u00e4n menness\\u00e4 k\\u00e4\\u00e4nnetty 16 kielelle\\n\\n(englanti, hollanti, saksa, ruotsi, suomi, islanti, italia, espanja, katalaani, portugali, puola, romania,\\n\\nven\\u00e4j\\u00e4, kiina ja japani). Vuosina 2011\\u20132012 h\\u00e4n toimi Yhdysvaltojen kasvatusfilofisen\\n\\nyhdistyksen puheenjohtajana.\\nARTEZ UNIVERSITY OF THE ARTS on iso taideakatemia Alankomaissa.\\nArtEZ kouluttaa ammatteihin, joissa taide, tieto ja luovuus ovat keskeisi\\u00e4. ArtEZ Press,\\nArtEZin oma kustantamo. Filosofiamme on, ett\\u00e4 jokaisen ArtEZ Press -lehden tulisi olla arvokas\\n\\ntaiteelle ja yhteiskunnalle. Julkaisumme ohjaavat muutosta ja innovaatioita, tarjoavat uusia\\n\\nn\\u00e4k\\u00f6kulmia ja osoittavat taiteen voiman. Ne ovat inspiroiva tietol\\u00e4hde opiskelijoille, taiteilijoille,\\n\\ntutkijoille ja kaikille taiteesta, kulttuurista ja koulutuksesta kiinnostuneille. Julkaisumme\\n\\nstimuloivat monimuotoisuutta ja rikkautta teoriassa ja k\\u00e4yt\\u00e4nn\\u00f6ss\\u00e4.\\nVuonna 2005 perustettu kustantamomme julkaisee sis\\u00e4ll\\u00f6lt\\u00e4\\u00e4n ja muotoilultaan\\n\\nkorkealaatuisia kirjoja. Ainutlaatuinen muotoilu tukee sis\\u00e4lt\\u00f6\\u00e4 ja p\\u00e4invastoin. ArtEZ Pressin\\n\\nvuosien varrella rakentama huolellisesti kuratoitu kokoelma edustaa monia aloja, kuten\\n\\narkkitehtuuri, kuvataide, tanssi, sisustus, taidekasvatus, muoti, musiikki, musiikkiterapia,\\n\\ntuotesuunnittelu, teatteri, muotoilu ja taideteoria.\\n\\n\\n\"}, {\"page\": 66, \"text\": \"# TAIDEKASVATUS JOSEPH BEUYSIN \\u2018J\\u00c4LKEEN\\u2019\\n\\n\\n\"}]}\n",
      "\n",
      "\n",
      "Gold Answer:\n",
      "language: fi\n",
      "title: Antaa taiteen opettaa : taidekasvatus Joseph Beuysin 'jälkeen'\n",
      "creator: ['Biesta, Gert']\n",
      "year: 2020\n",
      "publisher: ['ArtEZ Press', 'Taideyliopisto']\n",
      "e_isbn: ['9789523291928']\n",
      "type_coar: book\n"
     ]
    }
   ],
   "source": [
    "print(\"Input Message:\")\n",
    "print(train_set[-1]['content'])\n",
    "\n",
    "print(\"\\n\\nGold Answer:\")\n",
    "for k, v in json.loads(train_set[-1]['metadata']).items():\n",
    "    print(f\"{k}: {v}\")"
   ]
  },
  {
   "cell_type": "code",
   "execution_count": 4,
   "id": "93b029db-7ee1-4e8c-97f9-353ce5db1d6c",
   "metadata": {},
   "outputs": [
    {
     "name": "stdout",
     "output_type": "stream",
     "text": [
      "Prediction(\n",
      "    reasoning='The text is a press release announcing the latest iPhone 14 by Apple Inc. It mentions the CEO, Tim Cook, and highlights new features. The text does not provide a specific title, alternative titles, year of publication, DOI, ISBNs, or ISSNs. The type of the resource is a press release.',\n",
      "    language='en',\n",
      "    title='Apple Inc. Announces Latest iPhone 14',\n",
      "    alt_title=[],\n",
      "    creator=['Apple Inc.'],\n",
      "    year=None,\n",
      "    publisher=['Apple Inc.'],\n",
      "    doi=None,\n",
      "    e_isbn=[],\n",
      "    p_isbn=[],\n",
      "    e_issn=None,\n",
      "    p_issn=None,\n",
      "    type_coar='text'\n",
      ")\n"
     ]
    }
   ],
   "source": [
    "from typing import Optional\n",
    "\n",
    "class ExtractInfo(dspy.Signature):\n",
    "    \"\"\"Extract structured metadata from text extracted from a PDF.\"\"\"\n",
    "\n",
    "    content: str = dspy.InputField()\n",
    "    language: str = dspy.OutputField(desc=\"The language of the resource expressed as a BCP47 language tag.\")\n",
    "    title: str = dspy.OutputField(desc=\"The main title of the publication.\")\n",
    "    alt_title: list[str] = dspy.OutputField(desc=\"Alternative or parallel titles of the publication, suffixed with a BCP47 language tag in curly brackets.\")\n",
    "    creator: list[str] = dspy.OutputField(desc=\"The primary author(s) of the resource.\")\n",
    "    year: Optional[str] = dspy.OutputField(desc=\"The year on which the resource was issued or made available.\")\n",
    "    publisher: list[str] = dspy.OutputField(desc=\"The entity/entities responsible for making the resource available.\")\n",
    "    doi: Optional[str] = dspy.OutputField(desc=\"The Digital Object Identifier (DOI) associated with the resource.\")\n",
    "    e_isbn: list[str] = dspy.OutputField(desc=\"The ISBN associated with the electronic resource.\")\n",
    "    p_isbn: list[str] = dspy.OutputField(desc=\"The ISBN of the printed version of this document.\")\n",
    "    e_issn: Optional[str] = dspy.OutputField(desc=\"The ISSN associated with the electronic resource.\")\n",
    "    p_issn: Optional[str] = dspy.OutputField(desc=\"The ISSN of the printed version of this document.\")\n",
    "    type_coar: str = dspy.OutputField(desc=\"The type of the resource according to the COAR Resource Types classification.\")\n",
    "\n",
    "module = dspy.ChainOfThought(ExtractInfo)\n",
    "\n",
    "text = \"Apple Inc. announced its latest iPhone 14 today.\" \\\n",
    "    \"The CEO, Tim Cook, highlighted its new features in a press release.\"\n",
    "response = module(content=text)\n",
    "\n",
    "print(response)\n"
   ]
  },
  {
   "cell_type": "code",
   "execution_count": 5,
   "id": "5a1b736e-de88-4f36-b895-5611a8fbf3bc",
   "metadata": {},
   "outputs": [],
   "source": [
    "import Levenshtein\n",
    "\n",
    "ALMOST_THRESHOLD = 0.9  # Adjust as needed\n",
    "\n",
    "def compare_simple_string(true_val, pred_val):\n",
    "    if pred_val is None and true_val is None:\n",
    "        return 1\n",
    "    elif true_val is None:\n",
    "        return 0\n",
    "    elif pred_val is None:\n",
    "        return 0\n",
    "    elif true_val == str(pred_val):\n",
    "        return 1\n",
    "    else:\n",
    "        return 0\n",
    "\n",
    "def compare_fuzzy_string(true_val, pred_val):\n",
    "    base_score = compare_simple_string(true_val, pred_val)\n",
    "    if base_score == 1:\n",
    "        return 1\n",
    "    if true_val.lower() == pred_val.lower():\n",
    "        return 1\n",
    "    elif Levenshtein.ratio(true_val, pred_val) >= ALMOST_THRESHOLD:\n",
    "        return 1\n",
    "    elif Levenshtein.ratio(true_val.lower(), pred_val.lower()) >= ALMOST_THRESHOLD:\n",
    "        return 1\n",
    "    else:\n",
    "        return 0\n",
    "\n",
    "def compare_set(true_val, pred_val):\n",
    "    true_set = set(true_val) if true_val else set()\n",
    "    pred_set = set(pred_val) if pred_val else set()\n",
    "\n",
    "    if not true_set and not pred_set:\n",
    "        return 1\n",
    "    elif not true_set or not pred_set:\n",
    "        return 0\n",
    "    elif true_set == pred_set:\n",
    "        return 1\n",
    "    tp = len(true_set & pred_set)\n",
    "    fp = len(pred_set - true_set)\n",
    "    fn = len(true_set - pred_set)\n",
    "\n",
    "    precision = tp / (tp + fp) if (tp + fp) > 0 else 0\n",
    "    recall = tp / (tp + fn) if (tp + fn) > 0 else 0\n",
    "    f1 = 2 * precision * recall / (precision + recall) if (precision + recall) > 0 else 0\n",
    "    return f1\n",
    "\n",
    "def compare_e_issn(true_val, pred_val, p_issn_val):\n",
    "    base_score = compare_simple_string(true_val, pred_val)\n",
    "    if base_score == 1:\n",
    "        return 1\n",
    "    if p_issn_val and pred_val == p_issn_val:\n",
    "        return 1 if true_val is None else 0\n",
    "    return 0\n",
    "\n",
    "def metadata_metric(example, pred, trace=None):\n",
    "    fields = [\n",
    "        'language', 'title', 'creator', 'year', 'publisher',\n",
    "        'doi', 'e_isbn', 'p_isbn', 'e_issn', 'p_issn', 'type_coar'\n",
    "    ]\n",
    "\n",
    "    scores = []\n",
    "    for field in fields:\n",
    "        true_val = json.loads(example.get(\"metadata\", \"{}\")).get(field)\n",
    "        pred_val = pred.get(field) or None  # represent empty predictions as None\n",
    "\n",
    "        if field in ['language', 'year', 'doi', 'p_issn', 'type_coar']:\n",
    "            score = compare_simple_string(true_val, pred_val)\n",
    "        elif field == 'title':\n",
    "            score = compare_fuzzy_string(true_val, pred_val)\n",
    "        elif field in ['creator', 'publisher', 'e_isbn', 'p_isbn']:\n",
    "            score = compare_set(true_val, pred_val)\n",
    "        elif field == 'e_issn':\n",
    "            p_issn_val = example.get(\"ground_truth\", {}).get(\"p_issn\")\n",
    "            score = compare_e_issn(true_val, pred_val, p_issn_val)\n",
    "        else:\n",
    "            score = compare_simple_string(true_val, pred_val)\n",
    "\n",
    "        #print(field, repr(true_val), repr(pred_val), score)\n",
    "        scores.append(score)\n",
    "\n",
    "    return sum(scores) / len(scores) if scores else 0\n"
   ]
  },
  {
   "cell_type": "code",
   "execution_count": 6,
   "id": "64fd078d-3aef-4ff7-8aa1-04e23d70f3d0",
   "metadata": {},
   "outputs": [
    {
     "name": "stdout",
     "output_type": "stream",
     "text": [
      "Average Metric: 111.57 / 182 (61.3%): 100%|██████████| 182/182 [03:32<00:00,  1.17s/it]"
     ]
    },
    {
     "name": "stderr",
     "output_type": "stream",
     "text": [
      "2025/09/26 12:53:25 INFO dspy.evaluate.evaluate: Average Metric: 111.57132867132867 / 182 (61.3%)\n",
      "2025/09/26 12:53:25 WARNING dspy.evaluate.evaluate: Skipping table display since `pandas` is not installed.\n"
     ]
    },
    {
     "name": "stdout",
     "output_type": "stream",
     "text": [
      "\n",
      "CPU times: user 2.67 s, sys: 478 ms, total: 3.15 s\n",
      "Wall time: 3min 33s\n"
     ]
    }
   ],
   "source": [
    "%%time\n",
    "\n",
    "evaluate = dspy.Evaluate(\n",
    "    devset=test_set,\n",
    "    metric=metadata_metric,\n",
    "    num_threads=32,\n",
    "    display_table=True,\n",
    "    display_progress=True\n",
    ")\n",
    "\n",
    "eval_result = evaluate(module)"
   ]
  },
  {
   "cell_type": "code",
   "execution_count": 7,
   "id": "d172f585-0442-4a4e-9295-bdedfe21fc6f",
   "metadata": {},
   "outputs": [
    {
     "name": "stdout",
     "output_type": "stream",
     "text": [
      "\n",
      "\n",
      "\n",
      "\n",
      "\u001b[34m[2025-09-26T12:53:25.530335]\u001b[0m\n",
      "\n",
      "\u001b[31mSystem message:\u001b[0m\n",
      "\n",
      "Your input fields are:\n",
      "1. `content` (str):\n",
      "Your output fields are:\n",
      "1. `reasoning` (str): \n",
      "2. `language` (str): The language of the resource expressed as a BCP47 language tag.\n",
      "3. `title` (str): The main title of the publication.\n",
      "4. `alt_title` (list[str]): Alternative or parallel titles of the publication, suffixed with a BCP47 language tag in curly brackets.\n",
      "5. `creator` (list[str]): The primary author(s) of the resource.\n",
      "6. `year` (Union[str, NoneType]): The year on which the resource was issued or made available.\n",
      "7. `publisher` (list[str]): The entity/entities responsible for making the resource available.\n",
      "8. `doi` (Union[str, NoneType]): The Digital Object Identifier (DOI) associated with the resource.\n",
      "9. `e_isbn` (list[str]): The ISBN associated with the electronic resource.\n",
      "10. `p_isbn` (list[str]): The ISBN of the printed version of this document.\n",
      "11. `e_issn` (Union[str, NoneType]): The ISSN associated with the electronic resource.\n",
      "12. `p_issn` (Union[str, NoneType]): The ISSN of the printed version of this document.\n",
      "13. `type_coar` (str): The type of the resource according to the COAR Resource Types classification.\n",
      "All interactions will be structured in the following way, with the appropriate values filled in.\n",
      "\n",
      "Inputs will have the following structure:\n",
      "\n",
      "[[ ## content ## ]]\n",
      "{content}\n",
      "\n",
      "Outputs will be a JSON object with the following fields.\n",
      "\n",
      "{\n",
      "  \"reasoning\": \"{reasoning}\",\n",
      "  \"language\": \"{language}\",\n",
      "  \"title\": \"{title}\",\n",
      "  \"alt_title\": \"{alt_title}        # note: the value you produce must adhere to the JSON schema: {\\\"type\\\": \\\"array\\\", \\\"items\\\": {\\\"type\\\": \\\"string\\\"}}\",\n",
      "  \"creator\": \"{creator}        # note: the value you produce must adhere to the JSON schema: {\\\"type\\\": \\\"array\\\", \\\"items\\\": {\\\"type\\\": \\\"string\\\"}}\",\n",
      "  \"year\": \"{year}        # note: the value you produce must adhere to the JSON schema: {\\\"anyOf\\\": [{\\\"type\\\": \\\"string\\\"}, {\\\"type\\\": \\\"null\\\"}]}\",\n",
      "  \"publisher\": \"{publisher}        # note: the value you produce must adhere to the JSON schema: {\\\"type\\\": \\\"array\\\", \\\"items\\\": {\\\"type\\\": \\\"string\\\"}}\",\n",
      "  \"doi\": \"{doi}        # note: the value you produce must adhere to the JSON schema: {\\\"anyOf\\\": [{\\\"type\\\": \\\"string\\\"}, {\\\"type\\\": \\\"null\\\"}]}\",\n",
      "  \"e_isbn\": \"{e_isbn}        # note: the value you produce must adhere to the JSON schema: {\\\"type\\\": \\\"array\\\", \\\"items\\\": {\\\"type\\\": \\\"string\\\"}}\",\n",
      "  \"p_isbn\": \"{p_isbn}        # note: the value you produce must adhere to the JSON schema: {\\\"type\\\": \\\"array\\\", \\\"items\\\": {\\\"type\\\": \\\"string\\\"}}\",\n",
      "  \"e_issn\": \"{e_issn}        # note: the value you produce must adhere to the JSON schema: {\\\"anyOf\\\": [{\\\"type\\\": \\\"string\\\"}, {\\\"type\\\": \\\"null\\\"}]}\",\n",
      "  \"p_issn\": \"{p_issn}        # note: the value you produce must adhere to the JSON schema: {\\\"anyOf\\\": [{\\\"type\\\": \\\"string\\\"}, {\\\"type\\\": \\\"null\\\"}]}\",\n",
      "  \"type_coar\": \"{type_coar}\"\n",
      "}\n",
      "In adhering to this structure, your objective is: \n",
      "        Extract structured metadata from text extracted from a PDF.\n",
      "\n",
      "\n",
      "\u001b[31mUser message:\u001b[0m\n",
      "\n",
      "[[ ## content ## ]]\n",
      "{\"pdfinfo\": {\"title\": \"Demokrati och handel: En empirisk studie \\u00f6ver hur Hongkongs nedg\\u00e5ende demokrati p\\u00e5verkar handeln med EU\", \"author\": \"Anna Eriksson\", \"subject\": \"Magisteravhandling\", \"creationDate\": \"D:20210515154050+03'00'\", \"modDate\": \"D:20210518163726+03'00'\"}, \"pages\": [{\"page\": 1, \"text\": \"# Demokrati och handel\\n\\n## En empirisk studie \\u00f6ver hur Hongkongs nedg\\u00e5ende demokrati p\\u00e5verkar handeln med EU\\nAnna Eriksson\\nPro gradu-avhandling i\\n\\n\\nnationalekonomi\\nHandledare: Eva \\u00d6sterbacka\\nFakulteten f\\u00f6r\\n\\nsamh\\u00e4llsvetenskaper och\\n\\n\\nekonomi\\n\\u00c5bo Akademi\\n\\n\\n2021\\n\\n\\n\"}, {\"page\": 2, \"text\": \"\\u00c4mne: Nationalekonomi\\nSkribent: Anna Eriksson\\nHandledare: Eva \\u00d6sterbacka\\nAbstrakt:\\nSambandet mellan demokrati och handel har studerats p\\u00e5 flera olika s\\u00e4tt under flera olika\\n\\n\\ntidsperioder. Olika samband har hittats f\\u00f6r variablerna b\\u00e5de beaktade som oberoende och\\n\\n\\nberoende variabler. Det \\u00e4r intressant och viktigt att se hur de p\\u00e5verkar varandra f\\u00f6r att\\n\\n\\nkunna prognostisera framtida f\\u00f6r\\u00e4ndringar.\\nSyftet med denna avhandling \\u00e4r att se hur sambandet mellan demokrati och handel syns i\\n\\n\\nett fall d\\u00e4r demokratiniv\\u00e5n sjunker. Hongkong har haft en nedg\\u00e5ende demokratiniv\\u00e5 och\\n\\n\\n\\u00e4r d\\u00e4rmed ett l\\u00e4mpligt land f\\u00f6r att anv\\u00e4ndas som utg\\u00e5ngspunkt. Denna avhandling \\u00e4r\\n\\n\\nd\\u00e4rmed en fallstudie och resultaten kan inte anv\\u00e4ndas f\\u00f6r generaliserade slutsatser.\\nI avhandlingen presenteras Hongkongs demokratibakgrund och en teoretisk referensram\\n\\n\\nf\\u00f6r demokrati och handel med hj\\u00e4lp av en \\u00f6versikt av tidigare studier.\\nAnalysen utf\\u00f6rdes med tidsseriedata fr\\u00e5n \\u00e5ren 1993-2018. Tidsserierna \\u00e4r data f\\u00f6r\\n\\n\\nbilateral handelsdata mellan Hongkong och EU samt Hongkongs demokratiindex.\\nHandelsdata \\u00e4r taget f\\u00f6r Hongkong, vilket inneb\\u00e4r att det \\u00e4r exporten fr\\u00e5n Hongkong till\\nEU och importen fr\\u00e5n EU till Hongkong. Sj\\u00e4lva analysen gjordes med hj\\u00e4lp av en\\n\\n\\nvektorautoregressionsmodell, som kan anv\\u00e4ndas f\\u00f6r att testa f\\u00f6r grangerkausalitet och\\n\\n\\nimpulsresponsanalyser.\\nAvhandlingens resultat visar att det finns samband mellan demokratiniv\\u00e5 och handel.\\nEffekten av f\\u00f6r\\u00e4ndringar i variablerna har tv\\u00e5v\\u00e4gskausalitet och kan d\\u00e4rmed p\\u00e5verka\\n\\n\\nvarandras framtida v\\u00e4rden. Enligt impulsresponsanalysen skulle en positiv f\\u00f6r\\u00e4ndring i\\n\\n\\ndemokratiniv\\u00e5n \\u00e4ven orsaka en positiv f\\u00f6r\\u00e4ndring i exporten, med en signifikans p\\u00e5 5 % \\n\\nniv\\u00e5n. D\\u00e4remot \\u00e4r resultatet f\\u00f6r importen inte signifikant.\\nNyckelord: Hongkong, demokrati, bilateral handel\\nDatum: 15.5.2021 Sidor: 62\\n\\n\\n\"}, {\"page\": 3, \"text\": \"### Inneh\\u00e5llsf\\u00f6rteckning\\n\\n**1.** **INLEDNING** **1**\\n\\n\\n1.1 B AKGRUND 3\\n\\n\\n_1.1.1_ _Hongkongs internationella position_ _3_\\n\\n\\n_1.1.2_ _Demonstrationerna och Hongkongs politiska ledning_ _4_\\n\\n\\n_1.1.3 Nya s\\u00e4kerhetslagen_ _8_\\n\\n\\n_1.1.4_ _One Country \\u2013 Two Systems_ _10_\\n\\n\\n_1.1.5_ _EU och Hong Kong_ _11_\\n\\n\\n_1.1.6 Framtiden_ _14_\\n\\n\\n1.2 D EFINITIONER 15\\n\\n\\n_1.2.1_ _Demokrati_ _15_\\n\\n\\n_1.2.2_ _Internationell handel_ _16_\\n\\n\\n_1.2.3_ _EU28_ _17_\\n\\n\\n**2.** **TEORI** **18**\\n\\n\\n2.1 I NTERNATIONELL HANDEL OCH DEMOKRATI 19\\n\\n\\n2.2 D EMOKRATI OCH INTERNATIONELL HANDEL 20\\n\\n\\n2.3 I NKOMST  - OCH TILLG\\u00c5NGSF\\u00d6RDELNINGAR OCH DEMOKRATI 21\\n\\n\\n2.4 I NTERNATIONELL HANDEL OCH DEMOKRATI I SAMSPEL 22\\n\\n\\n**3.** **TIDIGARE LITTERATUR** **24**\\n\\n\\n**4.** **DATA** **27**\\n\\n\\n4.1. D EMOKRATIINDEXET 28\\n\\n\\n4.2. H ANDELSDATA 31\\n\\n\\n4.3. V ARIABLERNA I MODELLEN 32\\n\\n\\n**5.** **MODELLEN** **33**\\n\\n\\n5.1 V EKTORAUTOREGRESSIONSMODELLER (VAR) 33\\n\\n\\n5.2 G RANGERKAUSALITET 34\\n\\n\\n\"}, {\"page\": 4, \"text\": \"5.3 KPSS- TEST 36\\n\\n\\n5.4 I NFORMATIONSKRITERIUM 37\\n\\n\\n**6.** **RESULTAT** **38**\\n\\n\\n6.1 VAR- MODELLEN 40\\n\\n\\n6.2 S TATION\\u00c4RITET 40\\n\\n\\n6.3 V AL AV ANTAL LAGGAR 42\\n\\n\\n6.4 E STIMERING AV VAR- MODELLEN 43\\n\\n\\n6.5 S TABILITETSTEST 44\\n\\n\\n6.6 A UTOKORRELATION I RESIDUALERNA 46\\n\\n\\n6.7 G RANGERKAUSALITETSTEST 47\\n\\n\\n6.8 I MPULSRESPONSANALYS 51\\n\\n\\n6.9 R OBUSTHET 54\\n\\n\\n6.10 S AMMANFATTNING AV RESULTATEN 55\\n\\n\\n**6** **DISKUSSION** **58**\\n\\n\\n**7** **AVSLUTNING** **62**\\n\\n\\n**8** **K\\u00c4LLF\\u00d6RTECKNING**\\n\\n\\n**9** **APPENDIX**\\n\\n\\n9.1 I MPULSRESPONSANALYS\"}, {\"page\": 5, \"text\": \"### 1. Inledning\\nI Asien finns det v\\u00e4ldigt stora skillnader mellan de olika staterna. Demokratiutvecklingen\\n\\n\\nvar snabb \\u00e5ren 2006-2016. \\u00c5r 2016 n\\u00e5dde de sitt h\\u00f6gsta medelv\\u00e4rde i demokratiindexet.\\nEfter det har hela omr\\u00e5dets medelv\\u00e4rde sjunkit signifikant. Coronapandemin orsakade\\n\\n\\nv\\u00e4ldigt h\\u00e5rda restriktioner i Kina, Singapore och Sydkorea vilket p\\u00e5verkade resultatet.\\nStaternas restriktioner slog h\\u00e5rt mot m\\u00e4nskliga r\\u00e4ttigheter och friheter. Fast\\u00e4n\\n\\n\\nbek\\u00e4mpningsrestriktionerna p\\u00e5verkade mer \\u00e4n h\\u00e4lften av omr\\u00e5dets resultat i indexet,\\n\\n\\nfanns det \\u00e4ven andra faktorer som p\\u00e5verkade demokratiniv\\u00e5n. Hongkong och Myanmar\\n\\n\\nled mest i sina resultat d\\u00e5 b\\u00e5das resultat p\\u00e5verkades av andra faktorer \\u00e4n pandemin.\\n\\n\\n(The Economist Intelligence Unit, 2021)\\nEuropeiska Unionen har p\\u00e5st\\u00e5tt sig vara en f\\u00f6respr\\u00e5kare f\\u00f6r normer, s\\u00e5som standarder\\n\\n\\nf\\u00f6r handelsbeteende. Enligt EU:s globala strategi fr\\u00e5n 2016 kan inte fred och s\\u00e4kerhet,\\n\\n\\nframg\\u00e5ng och demokrati blomstra utan globala normer. Det \\u00e4r orsaken till att EU vill st\\u00e5\\n\\n\\n1\\n\\n\\n\"}, {\"page\": 6, \"text\": \"Studien utf\\u00f6rs genom en analys av en VAR-modell, och har en tidsram fr\\u00e5n 1993-2018.\"}]}\n",
      "\n",
      "Respond with a JSON object in the following order of fields: `reasoning`, then `language`, then `title`, then `alt_title` (must be formatted as a valid Python list[str]), then `creator` (must be formatted as a valid Python list[str]), then `year` (must be formatted as a valid Python Union[str, NoneType]), then `publisher` (must be formatted as a valid Python list[str]), then `doi` (must be formatted as a valid Python Union[str, NoneType]), then `e_isbn` (must be formatted as a valid Python list[str]), then `p_isbn` (must be formatted as a valid Python list[str]), then `e_issn` (must be formatted as a valid Python Union[str, NoneType]), then `p_issn` (must be formatted as a valid Python Union[str, NoneType]), then `type_coar`.\n",
      "\n",
      "\n",
      "\u001b[31mResponse:\u001b[0m\n",
      "\n",
      "\u001b[32m{\n",
      "  \"reasoning\": \"The metadata was extracted from the provided PDF text. The title and author were found in the `pdfinfo` section and confirmed on the first page of the text. The subject indicates the type of publication. The year was derived from the `creationDate` in the `pdfinfo` section. The publisher and supervior were extracted from the text on the first page. No DOIs, ISBNs, or ISSN were provided.\",\n",
      "  \"language\": \"sv\",\n",
      "  \"title\": \"Demokrati och handel: En empirisk studie över hur Hongkongs nedgående demokrati påverkar handeln med EU\",\n",
      "  \"alt_title\": [\"Democracy and Trade: An Empirical Study of How Hong Kong's Declining Democracy Affects Trade with the EU {en}\"],\n",
      "  \"creator\": [\"Anna Eriksson\"],\n",
      "  \"year\": \"2021\",\n",
      "  \"publisher\": [\"Åbo Akademi\", \"Faculty of Social Sciences and Economics\"],  \"doi\": null,\n",
      "  \"e_isbn\": [],\n",
      "  \"p_isbn\": [],\n",
      "  \"e_issn\": null,\n",
      "  \"p_issn\": null,\n",
      "  \"type_coar\": \"thesis\"\n",
      "}\u001b[0m\n",
      "\n",
      "\n",
      "\n",
      "\n",
      "\n"
     ]
    }
   ],
   "source": [
    "lm.inspect_history()"
   ]
  },
  {
   "cell_type": "code",
   "execution_count": null,
   "id": "99baf332-ed43-4947-9183-89fd35bee3f1",
   "metadata": {},
   "outputs": [],
   "source": []
  }
 ],
 "metadata": {
  "kernelspec": {
   "display_name": "fingreylit-dspy",
   "language": "python",
   "name": "fingreylit-dspy"
  },
  "language_info": {
   "codemirror_mode": {
    "name": "ipython",
    "version": 3
   },
   "file_extension": ".py",
   "mimetype": "text/x-python",
   "name": "python",
   "nbconvert_exporter": "python",
   "pygments_lexer": "ipython3",
   "version": "3.12.3"
  }
 },
 "nbformat": 4,
 "nbformat_minor": 5
}
