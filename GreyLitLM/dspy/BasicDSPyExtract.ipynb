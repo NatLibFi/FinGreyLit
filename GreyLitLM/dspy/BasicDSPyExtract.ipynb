{
 "cells": [
  {
   "cell_type": "markdown",
   "id": "73c40ed4-71a7-409b-a8d5-b3a00084799a",
   "metadata": {},
   "source": [
    "# Basic metadata extraction using DSPy and a local LLM\n",
    "\n",
    "To run this, you first need to start a local vLLM server in the backround with a command like this:\n",
    "\n",
    "    vllm serve $MODEL_ID --port 7987 --max-model-len 32768 --gpu-memory-utilization 0.9\n",
    "\n",
    "where MODEL_ID is e.g. `Qwen/Qwen3-4B-Instruct-2507` and the port has to match the PORT setting below."
   ]
  },
  {
   "cell_type": "code",
   "execution_count": 2,
   "id": "c5209ed6-b8db-4c6b-9030-b995851f8c41",
   "metadata": {},
   "outputs": [
    {
     "data": {
      "text/plain": [
       "['Sure! \"Say this is a test!\" — I\\'m here to help with any questions or tasks you have. Is there something specific you\\'d like to discuss or work on? 😊']"
      ]
     },
     "execution_count": 2,
     "metadata": {},
     "output_type": "execute_result"
    }
   ],
   "source": [
    "import dspy\n",
    "\n",
    "MODEL_ID = \"Qwen/Qwen3-4B-Instruct-2507\"  # should match the model vLLM is running (does it matter??)\n",
    "PORT = 7987  # should match the port where vLLM is running\n",
    "\n",
    "lm = dspy.LM(\"openai/\" + MODEL_ID,\n",
    "             api_base=f\"http://localhost:{PORT}/v1\",  # ensure this points to your port\n",
    "             api_key=\"local\", model_type=\"chat\")\n",
    "dspy.configure(lm=lm)\n",
    "\n",
    "# test the connection to the LLM\n",
    "lm(\"Say this is a test!\", temperature=0.0)  # => ['This is a test!']"
   ]
  },
  {
   "cell_type": "code",
   "execution_count": 3,
   "id": "93b029db-7ee1-4e8c-97f9-353ce5db1d6c",
   "metadata": {},
   "outputs": [
    {
     "name": "stdout",
     "output_type": "stream",
     "text": [
      "Prediction(\n",
      "    language='en',\n",
      "    title='Apple Announces Latest iPhone 14 Features',\n",
      "    alt_title=[],\n",
      "    creator=['Apple Inc.', 'Tim Cook'],\n",
      "    year=2023,\n",
      "    publisher=['Apple Inc.'],\n",
      "    doi='10.1234/iphone.2023.001',\n",
      "    e_isbn=[],\n",
      "    p_isbn=[],\n",
      "    e_issn='2572-3030',\n",
      "    p_issn='0000-0000',\n",
      "    type_coar='JournalArticle'\n",
      ")\n"
     ]
    }
   ],
   "source": [
    "class ExtractInfo(dspy.Signature):\n",
    "    \"\"\"Extract structured information from text.\"\"\"\n",
    "\n",
    "    text: str = dspy.InputField()\n",
    "    language: str = dspy.OutputField(desc=\"The language of the resource expressed as a BCP47 language tag.\")\n",
    "    title: str = dspy.OutputField(desc=\"The main title of the publication.\")\n",
    "    alt_title: list[str] = dspy.OutputField(desc=\"Alternative or parallel titles of the publication, suffixed with a BCP47 language tag in curly brackets.\")\n",
    "    creator: list[str] = dspy.OutputField(desc=\"The primary author(s) of the resource.\")\n",
    "    year: int = dspy.OutputField(desc=\"The year on which the resource was issued or made available.\")\n",
    "    publisher: list[str] = dspy.OutputField(desc=\"The entity/entities responsible for making the resource available.\")\n",
    "    doi: str = dspy.OutputField(desc=\"The Digital Object Identifier (DOI) associated with the resource.\")\n",
    "    e_isbn: list[str] = dspy.OutputField(desc=\"The ISBN associated with the electronic resource.\")\n",
    "    p_isbn: list[str] = dspy.OutputField(desc=\"The ISBN of the printed version of this document.\")\n",
    "    e_issn: str = dspy.OutputField(desc=\"The ISSN associated with the electronic resource.\")\n",
    "    p_issn: str = dspy.OutputField(desc=\"The ISSN of the printed version of this document.\")\n",
    "    type_coar: str = dspy.OutputField(desc=\"The type of the resource according to the COAR Resource Types classification.\")\n",
    "\n",
    "module = dspy.Predict(ExtractInfo)\n",
    "\n",
    "text = \"Apple Inc. announced its latest iPhone 14 today.\" \\\n",
    "    \"The CEO, Tim Cook, highlighted its new features in a press release.\"\n",
    "response = module(text=text)\n",
    "\n",
    "print(response)\n"
   ]
  },
  {
   "cell_type": "code",
   "execution_count": null,
   "id": "587d4098-df52-4413-8a52-53ab94169a6d",
   "metadata": {},
   "outputs": [],
   "source": []
  }
 ],
 "metadata": {
  "kernelspec": {
   "display_name": "fingreylit-dspy",
   "language": "python",
   "name": "fingreylit-dspy"
  },
  "language_info": {
   "codemirror_mode": {
    "name": "ipython",
    "version": 3
   },
   "file_extension": ".py",
   "mimetype": "text/x-python",
   "name": "python",
   "nbconvert_exporter": "python",
   "pygments_lexer": "ipython3",
   "version": "3.12.3"
  }
 },
 "nbformat": 4,
 "nbformat_minor": 5
}
